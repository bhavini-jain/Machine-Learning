{
 "cells": [
  {
   "cell_type": "markdown",
   "metadata": {},
   "source": [
    "# Predict the Price of House"
   ]
  },
  {
   "cell_type": "code",
   "execution_count": 1,
   "metadata": {},
   "outputs": [],
   "source": [
    "import pandas as pd"
   ]
  },
  {
   "cell_type": "code",
   "execution_count": 2,
   "metadata": {},
   "outputs": [
    {
     "data": {
      "text/html": [
       "<div>\n",
       "<style scoped>\n",
       "    .dataframe tbody tr th:only-of-type {\n",
       "        vertical-align: middle;\n",
       "    }\n",
       "\n",
       "    .dataframe tbody tr th {\n",
       "        vertical-align: top;\n",
       "    }\n",
       "\n",
       "    .dataframe thead th {\n",
       "        text-align: right;\n",
       "    }\n",
       "</style>\n",
       "<table border=\"1\" class=\"dataframe\">\n",
       "  <thead>\n",
       "    <tr style=\"text-align: right;\">\n",
       "      <th></th>\n",
       "      <th>Id</th>\n",
       "      <th>MSSubClass</th>\n",
       "      <th>MSZoning</th>\n",
       "      <th>LotFrontage</th>\n",
       "      <th>LotArea</th>\n",
       "      <th>Street</th>\n",
       "      <th>Alley</th>\n",
       "      <th>LotShape</th>\n",
       "      <th>LandContour</th>\n",
       "      <th>Utilities</th>\n",
       "      <th>...</th>\n",
       "      <th>PoolArea</th>\n",
       "      <th>PoolQC</th>\n",
       "      <th>Fence</th>\n",
       "      <th>MiscFeature</th>\n",
       "      <th>MiscVal</th>\n",
       "      <th>MoSold</th>\n",
       "      <th>YrSold</th>\n",
       "      <th>SaleType</th>\n",
       "      <th>SaleCondition</th>\n",
       "      <th>SalePrice</th>\n",
       "    </tr>\n",
       "  </thead>\n",
       "  <tbody>\n",
       "    <tr>\n",
       "      <th>0</th>\n",
       "      <td>1</td>\n",
       "      <td>60</td>\n",
       "      <td>RL</td>\n",
       "      <td>65.0</td>\n",
       "      <td>8450</td>\n",
       "      <td>Pave</td>\n",
       "      <td>NaN</td>\n",
       "      <td>Reg</td>\n",
       "      <td>Lvl</td>\n",
       "      <td>AllPub</td>\n",
       "      <td>...</td>\n",
       "      <td>0</td>\n",
       "      <td>NaN</td>\n",
       "      <td>NaN</td>\n",
       "      <td>NaN</td>\n",
       "      <td>0</td>\n",
       "      <td>2</td>\n",
       "      <td>2008</td>\n",
       "      <td>WD</td>\n",
       "      <td>Normal</td>\n",
       "      <td>208500</td>\n",
       "    </tr>\n",
       "    <tr>\n",
       "      <th>1</th>\n",
       "      <td>2</td>\n",
       "      <td>20</td>\n",
       "      <td>RL</td>\n",
       "      <td>80.0</td>\n",
       "      <td>9600</td>\n",
       "      <td>Pave</td>\n",
       "      <td>NaN</td>\n",
       "      <td>Reg</td>\n",
       "      <td>Lvl</td>\n",
       "      <td>AllPub</td>\n",
       "      <td>...</td>\n",
       "      <td>0</td>\n",
       "      <td>NaN</td>\n",
       "      <td>NaN</td>\n",
       "      <td>NaN</td>\n",
       "      <td>0</td>\n",
       "      <td>5</td>\n",
       "      <td>2007</td>\n",
       "      <td>WD</td>\n",
       "      <td>Normal</td>\n",
       "      <td>181500</td>\n",
       "    </tr>\n",
       "    <tr>\n",
       "      <th>2</th>\n",
       "      <td>3</td>\n",
       "      <td>60</td>\n",
       "      <td>RL</td>\n",
       "      <td>68.0</td>\n",
       "      <td>11250</td>\n",
       "      <td>Pave</td>\n",
       "      <td>NaN</td>\n",
       "      <td>IR1</td>\n",
       "      <td>Lvl</td>\n",
       "      <td>AllPub</td>\n",
       "      <td>...</td>\n",
       "      <td>0</td>\n",
       "      <td>NaN</td>\n",
       "      <td>NaN</td>\n",
       "      <td>NaN</td>\n",
       "      <td>0</td>\n",
       "      <td>9</td>\n",
       "      <td>2008</td>\n",
       "      <td>WD</td>\n",
       "      <td>Normal</td>\n",
       "      <td>223500</td>\n",
       "    </tr>\n",
       "    <tr>\n",
       "      <th>3</th>\n",
       "      <td>4</td>\n",
       "      <td>70</td>\n",
       "      <td>RL</td>\n",
       "      <td>60.0</td>\n",
       "      <td>9550</td>\n",
       "      <td>Pave</td>\n",
       "      <td>NaN</td>\n",
       "      <td>IR1</td>\n",
       "      <td>Lvl</td>\n",
       "      <td>AllPub</td>\n",
       "      <td>...</td>\n",
       "      <td>0</td>\n",
       "      <td>NaN</td>\n",
       "      <td>NaN</td>\n",
       "      <td>NaN</td>\n",
       "      <td>0</td>\n",
       "      <td>2</td>\n",
       "      <td>2006</td>\n",
       "      <td>WD</td>\n",
       "      <td>Abnorml</td>\n",
       "      <td>140000</td>\n",
       "    </tr>\n",
       "    <tr>\n",
       "      <th>4</th>\n",
       "      <td>5</td>\n",
       "      <td>60</td>\n",
       "      <td>RL</td>\n",
       "      <td>84.0</td>\n",
       "      <td>14260</td>\n",
       "      <td>Pave</td>\n",
       "      <td>NaN</td>\n",
       "      <td>IR1</td>\n",
       "      <td>Lvl</td>\n",
       "      <td>AllPub</td>\n",
       "      <td>...</td>\n",
       "      <td>0</td>\n",
       "      <td>NaN</td>\n",
       "      <td>NaN</td>\n",
       "      <td>NaN</td>\n",
       "      <td>0</td>\n",
       "      <td>12</td>\n",
       "      <td>2008</td>\n",
       "      <td>WD</td>\n",
       "      <td>Normal</td>\n",
       "      <td>250000</td>\n",
       "    </tr>\n",
       "  </tbody>\n",
       "</table>\n",
       "<p>5 rows × 81 columns</p>\n",
       "</div>"
      ],
      "text/plain": [
       "   Id  MSSubClass MSZoning  LotFrontage  LotArea Street Alley LotShape  \\\n",
       "0   1          60       RL         65.0     8450   Pave   NaN      Reg   \n",
       "1   2          20       RL         80.0     9600   Pave   NaN      Reg   \n",
       "2   3          60       RL         68.0    11250   Pave   NaN      IR1   \n",
       "3   4          70       RL         60.0     9550   Pave   NaN      IR1   \n",
       "4   5          60       RL         84.0    14260   Pave   NaN      IR1   \n",
       "\n",
       "  LandContour Utilities  ... PoolArea PoolQC Fence MiscFeature MiscVal MoSold  \\\n",
       "0         Lvl    AllPub  ...        0    NaN   NaN         NaN       0      2   \n",
       "1         Lvl    AllPub  ...        0    NaN   NaN         NaN       0      5   \n",
       "2         Lvl    AllPub  ...        0    NaN   NaN         NaN       0      9   \n",
       "3         Lvl    AllPub  ...        0    NaN   NaN         NaN       0      2   \n",
       "4         Lvl    AllPub  ...        0    NaN   NaN         NaN       0     12   \n",
       "\n",
       "  YrSold  SaleType  SaleCondition  SalePrice  \n",
       "0   2008        WD         Normal     208500  \n",
       "1   2007        WD         Normal     181500  \n",
       "2   2008        WD         Normal     223500  \n",
       "3   2006        WD        Abnorml     140000  \n",
       "4   2008        WD         Normal     250000  \n",
       "\n",
       "[5 rows x 81 columns]"
      ]
     },
     "execution_count": 2,
     "metadata": {},
     "output_type": "execute_result"
    }
   ],
   "source": [
    "df=pd.read_csv('F:\\Python_Class\\Dataset\\house_prediction.csv')\n",
    "df.head()"
   ]
  },
  {
   "cell_type": "code",
   "execution_count": 3,
   "metadata": {},
   "outputs": [],
   "source": [
    "df=df.select_dtypes(include=['int64','float64'])"
   ]
  },
  {
   "cell_type": "code",
   "execution_count": 4,
   "metadata": {},
   "outputs": [],
   "source": [
    "df.fillna(df.mean(),inplace=True)"
   ]
  },
  {
   "cell_type": "code",
   "execution_count": 5,
   "metadata": {},
   "outputs": [
    {
     "name": "stdout",
     "output_type": "stream",
     "text": [
      "<class 'pandas.core.frame.DataFrame'>\n",
      "RangeIndex: 1460 entries, 0 to 1459\n",
      "Data columns (total 38 columns):\n",
      " #   Column         Non-Null Count  Dtype  \n",
      "---  ------         --------------  -----  \n",
      " 0   Id             1460 non-null   int64  \n",
      " 1   MSSubClass     1460 non-null   int64  \n",
      " 2   LotFrontage    1460 non-null   float64\n",
      " 3   LotArea        1460 non-null   int64  \n",
      " 4   OverallQual    1460 non-null   int64  \n",
      " 5   OverallCond    1460 non-null   int64  \n",
      " 6   YearBuilt      1460 non-null   int64  \n",
      " 7   YearRemodAdd   1460 non-null   int64  \n",
      " 8   MasVnrArea     1460 non-null   float64\n",
      " 9   BsmtFinSF1     1460 non-null   int64  \n",
      " 10  BsmtFinSF2     1460 non-null   int64  \n",
      " 11  BsmtUnfSF      1460 non-null   int64  \n",
      " 12  TotalBsmtSF    1460 non-null   int64  \n",
      " 13  1stFlrSF       1460 non-null   int64  \n",
      " 14  2ndFlrSF       1460 non-null   int64  \n",
      " 15  LowQualFinSF   1460 non-null   int64  \n",
      " 16  GrLivArea      1460 non-null   int64  \n",
      " 17  BsmtFullBath   1460 non-null   int64  \n",
      " 18  BsmtHalfBath   1460 non-null   int64  \n",
      " 19  FullBath       1460 non-null   int64  \n",
      " 20  HalfBath       1460 non-null   int64  \n",
      " 21  BedroomAbvGr   1460 non-null   int64  \n",
      " 22  KitchenAbvGr   1460 non-null   int64  \n",
      " 23  TotRmsAbvGrd   1460 non-null   int64  \n",
      " 24  Fireplaces     1460 non-null   int64  \n",
      " 25  GarageYrBlt    1460 non-null   float64\n",
      " 26  GarageCars     1460 non-null   int64  \n",
      " 27  GarageArea     1460 non-null   int64  \n",
      " 28  WoodDeckSF     1460 non-null   int64  \n",
      " 29  OpenPorchSF    1460 non-null   int64  \n",
      " 30  EnclosedPorch  1460 non-null   int64  \n",
      " 31  3SsnPorch      1460 non-null   int64  \n",
      " 32  ScreenPorch    1460 non-null   int64  \n",
      " 33  PoolArea       1460 non-null   int64  \n",
      " 34  MiscVal        1460 non-null   int64  \n",
      " 35  MoSold         1460 non-null   int64  \n",
      " 36  YrSold         1460 non-null   int64  \n",
      " 37  SalePrice      1460 non-null   int64  \n",
      "dtypes: float64(3), int64(35)\n",
      "memory usage: 433.6 KB\n"
     ]
    }
   ],
   "source": [
    "df.info()"
   ]
  },
  {
   "cell_type": "code",
   "execution_count": 6,
   "metadata": {},
   "outputs": [
    {
     "name": "stdout",
     "output_type": "stream",
     "text": [
      "Shape of X (1460, 37)\n",
      "Shape of y (1460,)\n"
     ]
    }
   ],
   "source": [
    "X=df.drop('SalePrice',axis=1)\n",
    "y=df['SalePrice']\n",
    "print('Shape of X',X.shape)\n",
    "print('Shape of y',y.shape)"
   ]
  },
  {
   "cell_type": "code",
   "execution_count": 7,
   "metadata": {},
   "outputs": [],
   "source": [
    "from sklearn.model_selection import train_test_split\n",
    "X_train,X_test,y_train,y_test=train_test_split(X,y,test_size=0.2,random_state=51)"
   ]
  },
  {
   "cell_type": "code",
   "execution_count": 8,
   "metadata": {},
   "outputs": [
    {
     "name": "stdout",
     "output_type": "stream",
     "text": [
      "X train shape (1168, 37)\n",
      "X test shape (292, 37)\n",
      "y train shape (1168,)\n",
      "y test shape (292,)\n"
     ]
    }
   ],
   "source": [
    "print('X train shape',X_train.shape)\n",
    "print('X test shape',X_test.shape)\n",
    "print('y train shape',y_train.shape)\n",
    "print('y test shape',y_test.shape)"
   ]
  },
  {
   "cell_type": "code",
   "execution_count": 9,
   "metadata": {},
   "outputs": [],
   "source": [
    "from sklearn.preprocessing import StandardScaler\n",
    "sc=StandardScaler()\n",
    "sc.fit(X_train)\n",
    "X_train=sc.transform(X_train)\n",
    "X_test=sc.transform(X_test)"
   ]
  },
  {
   "cell_type": "markdown",
   "metadata": {},
   "source": [
    "## Linear Regression - ML Model"
   ]
  },
  {
   "cell_type": "code",
   "execution_count": 10,
   "metadata": {},
   "outputs": [],
   "source": [
    "from sklearn.linear_model import LinearRegression"
   ]
  },
  {
   "cell_type": "code",
   "execution_count": 11,
   "metadata": {},
   "outputs": [],
   "source": [
    "lr=LinearRegression()"
   ]
  },
  {
   "cell_type": "code",
   "execution_count": 12,
   "metadata": {},
   "outputs": [
    {
     "data": {
      "text/plain": [
       "LinearRegression()"
      ]
     },
     "execution_count": 12,
     "metadata": {},
     "output_type": "execute_result"
    }
   ],
   "source": [
    "lr.fit(X_train,y_train)"
   ]
  },
  {
   "cell_type": "code",
   "execution_count": 13,
   "metadata": {},
   "outputs": [
    {
     "data": {
      "text/plain": [
       "181468.6913457713"
      ]
     },
     "execution_count": 13,
     "metadata": {},
     "output_type": "execute_result"
    }
   ],
   "source": [
    "lr.intercept_"
   ]
  },
  {
   "cell_type": "code",
   "execution_count": 14,
   "metadata": {},
   "outputs": [
    {
     "data": {
      "text/plain": [
       "array([-2.35493933e+02, -8.11314270e+03, -1.65748156e+03,  4.05273673e+03,\n",
       "        2.41225155e+04,  5.31854186e+03,  7.55969486e+03,  6.13398168e+02,\n",
       "        5.39306103e+03,  3.14168027e+15,  1.10953891e+15,  3.11906949e+15,\n",
       "       -3.08310382e+15, -6.87352593e+16, -7.78868207e+16, -8.75208477e+15,\n",
       "        9.32209087e+16,  5.55160306e+03,  8.72167302e+02,  2.33850488e+03,\n",
       "       -5.84110461e+02, -8.45261528e+03, -2.80151940e+03,  6.41908161e+03,\n",
       "        9.15667441e+02,  3.58492673e+03,  1.00292029e+04, -2.70682985e+03,\n",
       "        2.84981424e+03,  9.75191253e+02, -5.14558184e+00,  4.96100216e+02,\n",
       "        2.54536425e+03, -1.68454951e+03, -2.50751176e+01,  6.70027248e+01,\n",
       "       -1.63132777e+03])"
      ]
     },
     "execution_count": 14,
     "metadata": {},
     "output_type": "execute_result"
    }
   ],
   "source": [
    "lr.coef_"
   ]
  },
  {
   "cell_type": "code",
   "execution_count": 15,
   "metadata": {},
   "outputs": [
    {
     "data": {
      "text/plain": [
       "array([-0.25497374, -0.86796155, -0.01915355,  0.16634251, -0.79685579,\n",
       "       -0.52351103, -0.39430898, -0.35658609, -0.57956876, -0.94550475,\n",
       "       -0.28965517,  0.8926539 , -0.1646418 ,  0.67607212, -0.80484992,\n",
       "       -0.11657352, -0.18490992, -0.79789129, -0.23318561, -1.04956925,\n",
       "       -0.77928629,  0.16070456, -0.19935038, -0.33515965,  0.60159139,\n",
       "       -0.79336405, -1.02935908, -0.87454248, -0.76879386, -0.70609773,\n",
       "        0.2588943 , -0.11182152, -0.25229877, -0.06475327,  1.1549454 ,\n",
       "        0.61220921, -0.5898059 ])"
      ]
     },
     "execution_count": 15,
     "metadata": {},
     "output_type": "execute_result"
    }
   ],
   "source": [
    "X_test[0,:]"
   ]
  },
  {
   "cell_type": "code",
   "execution_count": 16,
   "metadata": {},
   "outputs": [
    {
     "data": {
      "text/plain": [
       "array([130717.80519613])"
      ]
     },
     "execution_count": 16,
     "metadata": {},
     "output_type": "execute_result"
    }
   ],
   "source": [
    "lr.predict([X_test[0,:]])"
   ]
  },
  {
   "cell_type": "code",
   "execution_count": 17,
   "metadata": {},
   "outputs": [
    {
     "data": {
      "text/plain": [
       "array([130717.67281878, 130570.46268356, 282369.96619836, 153469.75119079,\n",
       "       178584.9386902 , 213081.44935973, 165273.57730722, 167809.02430463,\n",
       "       156973.17334474, 335982.18879987, 131914.51400923, 204059.25857854,\n",
       "       204139.45618002, 125595.07488662, 115421.33944223, 128825.43328164,\n",
       "       157652.03452026, 149002.51918559, 279883.53767486, 174957.81194218,\n",
       "       142324.25069737, 196755.57238157, 106243.38393123,  77994.10471231,\n",
       "       180372.73161499,  48340.1405835 , 149002.66078676, 158537.69867883,\n",
       "       166881.74177448, 112157.44449491, 205851.05979523, 179439.06702914,\n",
       "        99774.98080811, 105450.98400548, 259568.36553776, 119804.81696894,\n",
       "       115494.03039704, 133672.72514945, 239186.23363944, 212364.82419032,\n",
       "       220629.18279449, 284271.58089185, 215217.99333698, 196018.36566544,\n",
       "       215849.83069335, 267904.59443819, 123526.90288759, 262838.1340163 ,\n",
       "       253472.58236946, 120766.61423646, 241326.30323631,  64559.23874954,\n",
       "       128365.4563291 , 224729.50205284, 116645.90345352, 249374.38416449,\n",
       "       185895.54774045, 102569.68715763,  97774.43473266, 228668.75448726,\n",
       "       155747.67238472, 185470.41149612, 156723.77234628, 291589.85159162,\n",
       "       141215.71314149, 227155.52503969, 244147.61365209, 210659.73108402,\n",
       "        83140.626305  , 226727.17486736, 178284.25772612,  91223.28139062,\n",
       "       154662.36136406, 176561.46972821, 198816.43656448, 207279.86079283,\n",
       "       154071.30665004, 130362.33377888,  84852.38338249,  97976.56700263,\n",
       "       231993.57383854, 264665.68157103, 244945.09008052, 107139.89164113,\n",
       "       206130.96770985, 212141.37686793, 192047.16203667, 420471.0034168 ,\n",
       "       154154.55702945,   5548.77914946, 121068.75552961, 129582.44066156,\n",
       "       293221.06734115, 259108.10032749, 196928.79340354, 233839.51423914,\n",
       "       203020.36193588, 159375.61255579, 268506.14567861, 192479.0430146 ,\n",
       "       211186.17810356, 133929.0927633 , 186571.99962145, 231938.07462367,\n",
       "       207063.47556649, 205677.49450502, 193332.61481271,  58127.71464604,\n",
       "       175277.65940881, 131505.5726141 , 139261.48132083, 250228.7043503 ,\n",
       "        99346.81066463, 235444.44077691, 174582.41333781, 153853.96106526,\n",
       "       188485.91589962, 112006.04747375, 153495.67492773, 103385.37022665,\n",
       "       132406.40414833, 151370.77794011, 262754.28119987, 153261.0265317 ,\n",
       "       200283.15004292,  93318.35136998, 112377.30823194, 135596.62404541,\n",
       "       241372.83437361, 107007.60518265, 145651.16878506,  98899.79457333,\n",
       "       143442.51599907, 225156.04379208, 200379.436562  , 303113.83994196,\n",
       "       116027.19378354, 118434.38074329, 238432.17461343, 241724.7953855 ,\n",
       "       266570.6025862 , 172039.29020104, 177740.70530383, 163614.17254103,\n",
       "       270085.26504997, 100506.51696475, 210335.16411818, 112425.7262841 ,\n",
       "       311106.35297724, 237262.54532138, 346311.3719926 , 171989.49512768,\n",
       "       128847.11769036, 297658.01235543, 263640.53234779, 379644.89737706,\n",
       "       101194.68004373, 144073.83301149, 226043.34341341, 171716.82900188,\n",
       "       171521.11811835, 285576.51621481, 396945.1331662 , 257358.82491013,\n",
       "       248224.47859701, 193913.06655617, 145654.73259916, 189234.8108816 ,\n",
       "       247074.29972992, 145196.79662485, 153189.831262  , 197144.56816656,\n",
       "       181930.64395495, 177708.1140622 ,  93495.73714599, 174169.28755086,\n",
       "       210798.45164438, 184268.28407389, 131945.39229026, 151209.00438179,\n",
       "       119696.50460273, 197097.97136275, 162737.27132833, 177632.86358627,\n",
       "       278585.2392088 , 273637.54812724, 185169.59391979, 254199.64803085,\n",
       "       285726.76044518, 320819.10056586, 183745.64127201, 276620.263154  ,\n",
       "       208715.94321507, 190241.52169739, 202437.882762  , 314260.42902394,\n",
       "       183137.48922644, 205991.68532324, 176167.14264719, 223805.81332985,\n",
       "       314732.36473518, 377620.72564792, 108042.06179985,  54150.99728088,\n",
       "       196639.94787132,  75195.51084732, 110048.36235489, 130696.55475865,\n",
       "       219678.70221393, 156968.90661124, 165239.57564056, 119794.86041177,\n",
       "       122115.05272965, 306922.54161641,  93804.27292417, 109583.91631537,\n",
       "       118485.09621715,  90360.56602522, 229062.72213534, 158140.31538762,\n",
       "       156865.78462583, 207677.82685761, 550818.3773606 , 215125.12853017,\n",
       "        58578.1775188 , 162710.0190905 , 145094.83397515, 242658.07028094,\n",
       "        92358.51160206, 126195.42064191, 129163.29739138, 126612.82757999,\n",
       "       164269.11023226,  73283.02777761, 204115.62797992, 183969.29260028,\n",
       "       123753.45834667, 211647.68614352, 194578.25265324, 195099.79985123,\n",
       "       260470.35460519,  60435.93871628, 175441.22529684, 119648.75768199,\n",
       "       148374.03918336, 182337.54445814, 170302.00916869, 100191.04675643,\n",
       "       120039.98116693, 353796.54040337, 146064.21223551, 274009.77539023,\n",
       "       162273.97544864, 224370.80236708,  97289.16647337, 115599.31304367,\n",
       "       131568.67846473,  98300.98762761, 153044.51846252,  53006.36687011,\n",
       "       104802.32930309, 139239.95096866, 141384.53220264, 121389.82657924,\n",
       "       118350.32557745, 149887.16552679, 149707.03629911,  91492.69792406,\n",
       "       241876.47738644,  90911.3935836 , 162670.58905363, 272163.06995718,\n",
       "       153490.44393346,  49333.85488175, 192265.963493  , 157591.66300251,\n",
       "       125330.10148351, 156270.77711369, 150890.41218999, 248283.73764698,\n",
       "        70545.23394917, 237707.18074057, 283004.58595055,  91091.91414593,\n",
       "       133402.84889875,  56553.81059618, 154648.83010122, 251368.394102  ,\n",
       "       154717.27032165, 120394.94877527, 226192.97798685, 231875.3215526 ])"
      ]
     },
     "execution_count": 17,
     "metadata": {},
     "output_type": "execute_result"
    }
   ],
   "source": [
    "lr.predict(X_test)"
   ]
  },
  {
   "cell_type": "code",
   "execution_count": 18,
   "metadata": {},
   "outputs": [
    {
     "data": {
      "text/plain": [
       "626     139900\n",
       "1334    125000\n",
       "199     274900\n",
       "647     155000\n",
       "433     181000\n",
       "         ...  \n",
       "1033    230000\n",
       "1364    144152\n",
       "1112    129900\n",
       "824     232600\n",
       "399     241000\n",
       "Name: SalePrice, Length: 292, dtype: int64"
      ]
     },
     "execution_count": 18,
     "metadata": {},
     "output_type": "execute_result"
    }
   ],
   "source": [
    "y_test"
   ]
  },
  {
   "cell_type": "code",
   "execution_count": 19,
   "metadata": {},
   "outputs": [
    {
     "data": {
      "text/plain": [
       "76.85323612834733"
      ]
     },
     "execution_count": 19,
     "metadata": {},
     "output_type": "execute_result"
    }
   ],
   "source": [
    "lr.score(X_test,y_test)*100\n"
   ]
  },
  {
   "cell_type": "markdown",
   "metadata": {},
   "source": [
    "## Implementing Ridge and LASSO Regression"
   ]
  },
  {
   "cell_type": "code",
   "execution_count": 20,
   "metadata": {},
   "outputs": [],
   "source": [
    "from sklearn.linear_model import Ridge, Lasso"
   ]
  },
  {
   "cell_type": "code",
   "execution_count": 22,
   "metadata": {},
   "outputs": [
    {
     "data": {
      "text/plain": [
       "0.7688663823154305"
      ]
     },
     "execution_count": 22,
     "metadata": {},
     "output_type": "execute_result"
    }
   ],
   "source": [
    "rd=Ridge()\n",
    "rd.fit(X_train,y_train)\n",
    "rd.score(X_test,y_test)"
   ]
  },
  {
   "cell_type": "code",
   "execution_count": 23,
   "metadata": {},
   "outputs": [
    {
     "name": "stderr",
     "output_type": "stream",
     "text": [
      "C:\\Users\\Pankaj Chittora\\AppData\\Roaming\\Python\\Python37\\site-packages\\sklearn\\linear_model\\_coordinate_descent.py:531: ConvergenceWarning: Objective did not converge. You might want to increase the number of iterations. Duality gap: 9139407385.298828, tolerance: 741212390.0502274\n",
      "  positive)\n"
     ]
    },
    {
     "data": {
      "text/plain": [
       "0.7687207405648381"
      ]
     },
     "execution_count": 23,
     "metadata": {},
     "output_type": "execute_result"
    }
   ],
   "source": [
    "ls=Lasso()\n",
    "ls.fit(X_train,y_train)\n",
    "ls.score(X_test,y_test)"
   ]
  },
  {
   "cell_type": "code",
   "execution_count": 28,
   "metadata": {},
   "outputs": [
    {
     "data": {
      "text/plain": [
       "0.7730172030253095"
      ]
     },
     "execution_count": 28,
     "metadata": {},
     "output_type": "execute_result"
    }
   ],
   "source": [
    "rd2=Ridge(alpha=40)\n",
    "rd2.fit(X_train,y_train)\n",
    "rd2.score(X_test,y_test)"
   ]
  },
  {
   "cell_type": "code",
   "execution_count": 29,
   "metadata": {},
   "outputs": [
    {
     "name": "stderr",
     "output_type": "stream",
     "text": [
      "C:\\Users\\Pankaj Chittora\\AppData\\Roaming\\Python\\Python37\\site-packages\\sklearn\\linear_model\\_coordinate_descent.py:531: ConvergenceWarning: Objective did not converge. You might want to increase the number of iterations. Duality gap: 9181609663.540527, tolerance: 741212390.0502274\n",
      "  positive)\n"
     ]
    },
    {
     "data": {
      "text/plain": [
       "0.7687301332989989"
      ]
     },
     "execution_count": 29,
     "metadata": {},
     "output_type": "execute_result"
    }
   ],
   "source": [
    "ls2=Lasso(alpha=2)\n",
    "ls2.fit(X_train,y_train)\n",
    "ls2.score(X_test,y_test)"
   ]
  },
  {
   "cell_type": "code",
   "execution_count": 32,
   "metadata": {},
   "outputs": [
    {
     "name": "stderr",
     "output_type": "stream",
     "text": [
      "C:\\Users\\Pankaj Chittora\\AppData\\Roaming\\Python\\Python37\\site-packages\\sklearn\\linear_model\\_coordinate_descent.py:531: ConvergenceWarning: Objective did not converge. You might want to increase the number of iterations. Duality gap: 2069105571.4621582, tolerance: 741212390.0502274\n",
      "  positive)\n"
     ]
    },
    {
     "data": {
      "text/plain": [
       "0.7690724844471418"
      ]
     },
     "execution_count": 32,
     "metadata": {},
     "output_type": "execute_result"
    }
   ],
   "source": [
    "ls3=Lasso(alpha=40)\n",
    "ls3.fit(X_train,y_train)\n",
    "ls3.score(X_test,y_test)"
   ]
  }
 ],
 "metadata": {
  "kernelspec": {
   "display_name": "Python 3",
   "language": "python",
   "name": "python3"
  },
  "language_info": {
   "codemirror_mode": {
    "name": "ipython",
    "version": 3
   },
   "file_extension": ".py",
   "mimetype": "text/x-python",
   "name": "python",
   "nbconvert_exporter": "python",
   "pygments_lexer": "ipython3",
   "version": "3.7.6"
  }
 },
 "nbformat": 4,
 "nbformat_minor": 4
}
