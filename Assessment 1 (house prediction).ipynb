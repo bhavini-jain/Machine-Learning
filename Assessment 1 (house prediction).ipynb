{
 "cells": [
  {
   "cell_type": "markdown",
   "metadata": {},
   "source": [
    "# Predict the Price of House"
   ]
  },
  {
   "cell_type": "code",
   "execution_count": 180,
   "metadata": {},
   "outputs": [],
   "source": [
    "import pandas as pd\n",
    "import numpy as np\n",
    "from sklearn.model_selection import train_test_split\n",
    "from sklearn.preprocessing import StandardScaler,LabelEncoder\n",
    "from sklearn.impute import SimpleImputer\n",
    "from sklearn.pipeline import Pipeline\n",
    "from sklearn.compose import ColumnTransformer"
   ]
  },
  {
   "cell_type": "code",
   "execution_count": 181,
   "metadata": {},
   "outputs": [
    {
     "data": {
      "text/html": [
       "<div>\n",
       "<style scoped>\n",
       "    .dataframe tbody tr th:only-of-type {\n",
       "        vertical-align: middle;\n",
       "    }\n",
       "\n",
       "    .dataframe tbody tr th {\n",
       "        vertical-align: top;\n",
       "    }\n",
       "\n",
       "    .dataframe thead th {\n",
       "        text-align: right;\n",
       "    }\n",
       "</style>\n",
       "<table border=\"1\" class=\"dataframe\">\n",
       "  <thead>\n",
       "    <tr style=\"text-align: right;\">\n",
       "      <th></th>\n",
       "      <th>Id</th>\n",
       "      <th>MSSubClass</th>\n",
       "      <th>MSZoning</th>\n",
       "      <th>LotFrontage</th>\n",
       "      <th>LotArea</th>\n",
       "      <th>Street</th>\n",
       "      <th>Alley</th>\n",
       "      <th>LotShape</th>\n",
       "      <th>LandContour</th>\n",
       "      <th>Utilities</th>\n",
       "      <th>...</th>\n",
       "      <th>PoolArea</th>\n",
       "      <th>PoolQC</th>\n",
       "      <th>Fence</th>\n",
       "      <th>MiscFeature</th>\n",
       "      <th>MiscVal</th>\n",
       "      <th>MoSold</th>\n",
       "      <th>YrSold</th>\n",
       "      <th>SaleType</th>\n",
       "      <th>SaleCondition</th>\n",
       "      <th>SalePrice</th>\n",
       "    </tr>\n",
       "  </thead>\n",
       "  <tbody>\n",
       "    <tr>\n",
       "      <th>0</th>\n",
       "      <td>1</td>\n",
       "      <td>60</td>\n",
       "      <td>RL</td>\n",
       "      <td>65.0</td>\n",
       "      <td>8450</td>\n",
       "      <td>Pave</td>\n",
       "      <td>NaN</td>\n",
       "      <td>Reg</td>\n",
       "      <td>Lvl</td>\n",
       "      <td>AllPub</td>\n",
       "      <td>...</td>\n",
       "      <td>0</td>\n",
       "      <td>NaN</td>\n",
       "      <td>NaN</td>\n",
       "      <td>NaN</td>\n",
       "      <td>0</td>\n",
       "      <td>2</td>\n",
       "      <td>2008</td>\n",
       "      <td>WD</td>\n",
       "      <td>Normal</td>\n",
       "      <td>208500</td>\n",
       "    </tr>\n",
       "    <tr>\n",
       "      <th>1</th>\n",
       "      <td>2</td>\n",
       "      <td>20</td>\n",
       "      <td>RL</td>\n",
       "      <td>80.0</td>\n",
       "      <td>9600</td>\n",
       "      <td>Pave</td>\n",
       "      <td>NaN</td>\n",
       "      <td>Reg</td>\n",
       "      <td>Lvl</td>\n",
       "      <td>AllPub</td>\n",
       "      <td>...</td>\n",
       "      <td>0</td>\n",
       "      <td>NaN</td>\n",
       "      <td>NaN</td>\n",
       "      <td>NaN</td>\n",
       "      <td>0</td>\n",
       "      <td>5</td>\n",
       "      <td>2007</td>\n",
       "      <td>WD</td>\n",
       "      <td>Normal</td>\n",
       "      <td>181500</td>\n",
       "    </tr>\n",
       "    <tr>\n",
       "      <th>2</th>\n",
       "      <td>3</td>\n",
       "      <td>60</td>\n",
       "      <td>RL</td>\n",
       "      <td>68.0</td>\n",
       "      <td>11250</td>\n",
       "      <td>Pave</td>\n",
       "      <td>NaN</td>\n",
       "      <td>IR1</td>\n",
       "      <td>Lvl</td>\n",
       "      <td>AllPub</td>\n",
       "      <td>...</td>\n",
       "      <td>0</td>\n",
       "      <td>NaN</td>\n",
       "      <td>NaN</td>\n",
       "      <td>NaN</td>\n",
       "      <td>0</td>\n",
       "      <td>9</td>\n",
       "      <td>2008</td>\n",
       "      <td>WD</td>\n",
       "      <td>Normal</td>\n",
       "      <td>223500</td>\n",
       "    </tr>\n",
       "    <tr>\n",
       "      <th>3</th>\n",
       "      <td>4</td>\n",
       "      <td>70</td>\n",
       "      <td>RL</td>\n",
       "      <td>60.0</td>\n",
       "      <td>9550</td>\n",
       "      <td>Pave</td>\n",
       "      <td>NaN</td>\n",
       "      <td>IR1</td>\n",
       "      <td>Lvl</td>\n",
       "      <td>AllPub</td>\n",
       "      <td>...</td>\n",
       "      <td>0</td>\n",
       "      <td>NaN</td>\n",
       "      <td>NaN</td>\n",
       "      <td>NaN</td>\n",
       "      <td>0</td>\n",
       "      <td>2</td>\n",
       "      <td>2006</td>\n",
       "      <td>WD</td>\n",
       "      <td>Abnorml</td>\n",
       "      <td>140000</td>\n",
       "    </tr>\n",
       "    <tr>\n",
       "      <th>4</th>\n",
       "      <td>5</td>\n",
       "      <td>60</td>\n",
       "      <td>RL</td>\n",
       "      <td>84.0</td>\n",
       "      <td>14260</td>\n",
       "      <td>Pave</td>\n",
       "      <td>NaN</td>\n",
       "      <td>IR1</td>\n",
       "      <td>Lvl</td>\n",
       "      <td>AllPub</td>\n",
       "      <td>...</td>\n",
       "      <td>0</td>\n",
       "      <td>NaN</td>\n",
       "      <td>NaN</td>\n",
       "      <td>NaN</td>\n",
       "      <td>0</td>\n",
       "      <td>12</td>\n",
       "      <td>2008</td>\n",
       "      <td>WD</td>\n",
       "      <td>Normal</td>\n",
       "      <td>250000</td>\n",
       "    </tr>\n",
       "  </tbody>\n",
       "</table>\n",
       "<p>5 rows × 81 columns</p>\n",
       "</div>"
      ],
      "text/plain": [
       "   Id  MSSubClass MSZoning  LotFrontage  LotArea Street Alley LotShape  \\\n",
       "0   1          60       RL         65.0     8450   Pave   NaN      Reg   \n",
       "1   2          20       RL         80.0     9600   Pave   NaN      Reg   \n",
       "2   3          60       RL         68.0    11250   Pave   NaN      IR1   \n",
       "3   4          70       RL         60.0     9550   Pave   NaN      IR1   \n",
       "4   5          60       RL         84.0    14260   Pave   NaN      IR1   \n",
       "\n",
       "  LandContour Utilities  ... PoolArea PoolQC Fence MiscFeature MiscVal MoSold  \\\n",
       "0         Lvl    AllPub  ...        0    NaN   NaN         NaN       0      2   \n",
       "1         Lvl    AllPub  ...        0    NaN   NaN         NaN       0      5   \n",
       "2         Lvl    AllPub  ...        0    NaN   NaN         NaN       0      9   \n",
       "3         Lvl    AllPub  ...        0    NaN   NaN         NaN       0      2   \n",
       "4         Lvl    AllPub  ...        0    NaN   NaN         NaN       0     12   \n",
       "\n",
       "  YrSold  SaleType  SaleCondition  SalePrice  \n",
       "0   2008        WD         Normal     208500  \n",
       "1   2007        WD         Normal     181500  \n",
       "2   2008        WD         Normal     223500  \n",
       "3   2006        WD        Abnorml     140000  \n",
       "4   2008        WD         Normal     250000  \n",
       "\n",
       "[5 rows x 81 columns]"
      ]
     },
     "execution_count": 181,
     "metadata": {},
     "output_type": "execute_result"
    }
   ],
   "source": [
    "df=pd.read_csv('F:\\Dataset\\house_prediction.csv')\n",
    "df.head()"
   ]
  },
  {
   "cell_type": "code",
   "execution_count": 182,
   "metadata": {},
   "outputs": [
    {
     "name": "stdout",
     "output_type": "stream",
     "text": [
      "(1460, 81)\n"
     ]
    }
   ],
   "source": [
    "print(df.shape)"
   ]
  },
  {
   "cell_type": "code",
   "execution_count": 183,
   "metadata": {},
   "outputs": [],
   "source": [
    "X = df.drop(columns=[\"Id\",\"SalePrice\"])  \n",
    "y = df[\"SalePrice\"]\n"
   ]
  },
  {
   "cell_type": "code",
   "execution_count": 184,
   "metadata": {},
   "outputs": [
    {
     "data": {
      "text/html": [
       "<div>\n",
       "<style scoped>\n",
       "    .dataframe tbody tr th:only-of-type {\n",
       "        vertical-align: middle;\n",
       "    }\n",
       "\n",
       "    .dataframe tbody tr th {\n",
       "        vertical-align: top;\n",
       "    }\n",
       "\n",
       "    .dataframe thead th {\n",
       "        text-align: right;\n",
       "    }\n",
       "</style>\n",
       "<table border=\"1\" class=\"dataframe\">\n",
       "  <thead>\n",
       "    <tr style=\"text-align: right;\">\n",
       "      <th></th>\n",
       "      <th>MSSubClass</th>\n",
       "      <th>MSZoning</th>\n",
       "      <th>LotFrontage</th>\n",
       "      <th>LotArea</th>\n",
       "      <th>Street</th>\n",
       "      <th>Alley</th>\n",
       "      <th>LotShape</th>\n",
       "      <th>LandContour</th>\n",
       "      <th>Utilities</th>\n",
       "      <th>LotConfig</th>\n",
       "      <th>...</th>\n",
       "      <th>ScreenPorch</th>\n",
       "      <th>PoolArea</th>\n",
       "      <th>PoolQC</th>\n",
       "      <th>Fence</th>\n",
       "      <th>MiscFeature</th>\n",
       "      <th>MiscVal</th>\n",
       "      <th>MoSold</th>\n",
       "      <th>YrSold</th>\n",
       "      <th>SaleType</th>\n",
       "      <th>SaleCondition</th>\n",
       "    </tr>\n",
       "  </thead>\n",
       "  <tbody>\n",
       "    <tr>\n",
       "      <th>0</th>\n",
       "      <td>60</td>\n",
       "      <td>RL</td>\n",
       "      <td>65.0</td>\n",
       "      <td>8450</td>\n",
       "      <td>Pave</td>\n",
       "      <td>NaN</td>\n",
       "      <td>Reg</td>\n",
       "      <td>Lvl</td>\n",
       "      <td>AllPub</td>\n",
       "      <td>Inside</td>\n",
       "      <td>...</td>\n",
       "      <td>0</td>\n",
       "      <td>0</td>\n",
       "      <td>NaN</td>\n",
       "      <td>NaN</td>\n",
       "      <td>NaN</td>\n",
       "      <td>0</td>\n",
       "      <td>2</td>\n",
       "      <td>2008</td>\n",
       "      <td>WD</td>\n",
       "      <td>Normal</td>\n",
       "    </tr>\n",
       "    <tr>\n",
       "      <th>1</th>\n",
       "      <td>20</td>\n",
       "      <td>RL</td>\n",
       "      <td>80.0</td>\n",
       "      <td>9600</td>\n",
       "      <td>Pave</td>\n",
       "      <td>NaN</td>\n",
       "      <td>Reg</td>\n",
       "      <td>Lvl</td>\n",
       "      <td>AllPub</td>\n",
       "      <td>FR2</td>\n",
       "      <td>...</td>\n",
       "      <td>0</td>\n",
       "      <td>0</td>\n",
       "      <td>NaN</td>\n",
       "      <td>NaN</td>\n",
       "      <td>NaN</td>\n",
       "      <td>0</td>\n",
       "      <td>5</td>\n",
       "      <td>2007</td>\n",
       "      <td>WD</td>\n",
       "      <td>Normal</td>\n",
       "    </tr>\n",
       "    <tr>\n",
       "      <th>2</th>\n",
       "      <td>60</td>\n",
       "      <td>RL</td>\n",
       "      <td>68.0</td>\n",
       "      <td>11250</td>\n",
       "      <td>Pave</td>\n",
       "      <td>NaN</td>\n",
       "      <td>IR1</td>\n",
       "      <td>Lvl</td>\n",
       "      <td>AllPub</td>\n",
       "      <td>Inside</td>\n",
       "      <td>...</td>\n",
       "      <td>0</td>\n",
       "      <td>0</td>\n",
       "      <td>NaN</td>\n",
       "      <td>NaN</td>\n",
       "      <td>NaN</td>\n",
       "      <td>0</td>\n",
       "      <td>9</td>\n",
       "      <td>2008</td>\n",
       "      <td>WD</td>\n",
       "      <td>Normal</td>\n",
       "    </tr>\n",
       "    <tr>\n",
       "      <th>3</th>\n",
       "      <td>70</td>\n",
       "      <td>RL</td>\n",
       "      <td>60.0</td>\n",
       "      <td>9550</td>\n",
       "      <td>Pave</td>\n",
       "      <td>NaN</td>\n",
       "      <td>IR1</td>\n",
       "      <td>Lvl</td>\n",
       "      <td>AllPub</td>\n",
       "      <td>Corner</td>\n",
       "      <td>...</td>\n",
       "      <td>0</td>\n",
       "      <td>0</td>\n",
       "      <td>NaN</td>\n",
       "      <td>NaN</td>\n",
       "      <td>NaN</td>\n",
       "      <td>0</td>\n",
       "      <td>2</td>\n",
       "      <td>2006</td>\n",
       "      <td>WD</td>\n",
       "      <td>Abnorml</td>\n",
       "    </tr>\n",
       "    <tr>\n",
       "      <th>4</th>\n",
       "      <td>60</td>\n",
       "      <td>RL</td>\n",
       "      <td>84.0</td>\n",
       "      <td>14260</td>\n",
       "      <td>Pave</td>\n",
       "      <td>NaN</td>\n",
       "      <td>IR1</td>\n",
       "      <td>Lvl</td>\n",
       "      <td>AllPub</td>\n",
       "      <td>FR2</td>\n",
       "      <td>...</td>\n",
       "      <td>0</td>\n",
       "      <td>0</td>\n",
       "      <td>NaN</td>\n",
       "      <td>NaN</td>\n",
       "      <td>NaN</td>\n",
       "      <td>0</td>\n",
       "      <td>12</td>\n",
       "      <td>2008</td>\n",
       "      <td>WD</td>\n",
       "      <td>Normal</td>\n",
       "    </tr>\n",
       "  </tbody>\n",
       "</table>\n",
       "<p>5 rows × 79 columns</p>\n",
       "</div>"
      ],
      "text/plain": [
       "   MSSubClass MSZoning  LotFrontage  LotArea Street Alley LotShape  \\\n",
       "0          60       RL         65.0     8450   Pave   NaN      Reg   \n",
       "1          20       RL         80.0     9600   Pave   NaN      Reg   \n",
       "2          60       RL         68.0    11250   Pave   NaN      IR1   \n",
       "3          70       RL         60.0     9550   Pave   NaN      IR1   \n",
       "4          60       RL         84.0    14260   Pave   NaN      IR1   \n",
       "\n",
       "  LandContour Utilities LotConfig  ... ScreenPorch PoolArea PoolQC Fence  \\\n",
       "0         Lvl    AllPub    Inside  ...           0        0    NaN   NaN   \n",
       "1         Lvl    AllPub       FR2  ...           0        0    NaN   NaN   \n",
       "2         Lvl    AllPub    Inside  ...           0        0    NaN   NaN   \n",
       "3         Lvl    AllPub    Corner  ...           0        0    NaN   NaN   \n",
       "4         Lvl    AllPub       FR2  ...           0        0    NaN   NaN   \n",
       "\n",
       "  MiscFeature MiscVal  MoSold  YrSold  SaleType  SaleCondition  \n",
       "0         NaN       0       2    2008        WD         Normal  \n",
       "1         NaN       0       5    2007        WD         Normal  \n",
       "2         NaN       0       9    2008        WD         Normal  \n",
       "3         NaN       0       2    2006        WD        Abnorml  \n",
       "4         NaN       0      12    2008        WD         Normal  \n",
       "\n",
       "[5 rows x 79 columns]"
      ]
     },
     "execution_count": 184,
     "metadata": {},
     "output_type": "execute_result"
    }
   ],
   "source": [
    "X.head()"
   ]
  },
  {
   "cell_type": "code",
   "execution_count": 185,
   "metadata": {},
   "outputs": [
    {
     "name": "stdout",
     "output_type": "stream",
     "text": [
      "Shape of you train and target data part-->\n",
      "(1460, 79)\n",
      "(1460,)\n"
     ]
    }
   ],
   "source": [
    "print(\"Shape of you train and target data part-->\",X.shape,y.shape,sep=\"\\n\")"
   ]
  },
  {
   "cell_type": "markdown",
   "metadata": {},
   "source": [
    "# removiing null columns\n"
   ]
  },
  {
   "cell_type": "code",
   "execution_count": 186,
   "metadata": {},
   "outputs": [
    {
     "name": "stdout",
     "output_type": "stream",
     "text": [
      "Index(['Alley', 'FireplaceQu', 'PoolQC', 'Fence', 'MiscFeature'], dtype='object')\n"
     ]
    }
   ],
   "source": [
    "null_data = X.isnull().sum()/X.shape[0]*100\n",
    "null_columns = null_data[null_data>20].keys()\n",
    "print(null_columns)\n",
    "\n"
   ]
  },
  {
   "cell_type": "code",
   "execution_count": 187,
   "metadata": {},
   "outputs": [
    {
     "name": "stdout",
     "output_type": "stream",
     "text": [
      "(1460, 74)\n"
     ]
    }
   ],
   "source": [
    "X = X.drop(columns=null_columns) \n",
    "print(X.shape)"
   ]
  },
  {
   "cell_type": "markdown",
   "metadata": {},
   "source": [
    "# finding missing numerical data"
   ]
  },
  {
   "cell_type": "code",
   "execution_count": 188,
   "metadata": {},
   "outputs": [
    {
     "name": "stdout",
     "output_type": "stream",
     "text": [
      "348\n",
      "numerical data which is missing  ['LotFrontage', 'MasVnrArea', 'GarageYrBlt']\n"
     ]
    }
   ],
   "source": [
    "X_num = X.select_dtypes(include=[\"int64\",\"float64\"])\n",
    "print(X_num.isnull().sum().sum())\n",
    "num_nn = [var for var in X_num.columns if X_num[var].isnull().sum()>0]\n",
    "print(\"numerical data which is missing \",num_nn)"
   ]
  },
  {
   "cell_type": "markdown",
   "metadata": {},
   "source": [
    "# finding missing object data"
   ]
  },
  {
   "cell_type": "code",
   "execution_count": 189,
   "metadata": {},
   "outputs": [
    {
     "name": "stdout",
     "output_type": "stream",
     "text": [
      "520\n",
      "object data which is missing: ['MasVnrType', 'BsmtQual', 'BsmtCond', 'BsmtExposure', 'BsmtFinType1', 'BsmtFinType2', 'Electrical', 'GarageType', 'GarageFinish', 'GarageQual', 'GarageCond']\n"
     ]
    }
   ],
   "source": [
    "X_char = X.select_dtypes(include=[\"object\"])\n",
    "print(X_char.isnull().sum().sum())\n",
    "char_nn = [var for var in X_char.columns if X_char[var].isnull().sum()>0]\n",
    "print(\"object data which is missing:\",char_nn)"
   ]
  },
  {
   "cell_type": "markdown",
   "metadata": {},
   "source": [
    "# filling values"
   ]
  },
  {
   "cell_type": "code",
   "execution_count": 190,
   "metadata": {},
   "outputs": [],
   "source": [
    "num_nn = ['LotFrontage', 'MasVnrArea', 'GarageYrBlt']\n",
    "char_nn = ['MasVnrType', 'BsmtQual', 'BsmtCond', 'BsmtExposure', 'BsmtFinType1', 'BsmtFinType2', 'Electrical', 'GarageType', 'GarageFinish', 'GarageQual', 'GarageCond']\n"
   ]
  },
  {
   "cell_type": "code",
   "execution_count": 191,
   "metadata": {},
   "outputs": [],
   "source": [
    "mean_impute = Pipeline(steps=[(\"imputer\",SimpleImputer(strategy=\"mean\"))])\n",
    "mode_impute = Pipeline(steps=[(\"imputer\",SimpleImputer(strategy=\"most_frequent\"))])"
   ]
  },
  {
   "cell_type": "code",
   "execution_count": 192,
   "metadata": {},
   "outputs": [],
   "source": [
    "transform_1 = ColumnTransformer(transformers=\n",
    "                              [(\"num_mean\",mean_impute,num_nn),(\"char_mode\",mode_impute,char_nn)])"
   ]
  },
  {
   "cell_type": "code",
   "execution_count": 193,
   "metadata": {},
   "outputs": [],
   "source": [
    "update_null = transform_1.fit_transform(X)\n",
    "df_update_null = pd.DataFrame(update_null,columns=['LotFrontage', 'MasVnrArea', 'GarageYrBlt','MasVnrType', 'BsmtQual', 'BsmtCond', 'BsmtExposure', 'BsmtFinType1', 'BsmtFinType2', 'Electrical', 'GarageType', 'GarageFinish', 'GarageQual', 'GarageCond'])"
   ]
  },
  {
   "cell_type": "code",
   "execution_count": 194,
   "metadata": {},
   "outputs": [],
   "source": [
    "X.update(df_update_null)"
   ]
  },
  {
   "cell_type": "code",
   "execution_count": 195,
   "metadata": {},
   "outputs": [
    {
     "name": "stdout",
     "output_type": "stream",
     "text": [
      "Shape of train Data\n",
      "(1460, 74)\n",
      "\n",
      "Shape of target Data\n",
      "(1460,)\n"
     ]
    }
   ],
   "source": [
    "print(\"Shape of train Data\",X.shape,\"\\nShape of target Data\",y.shape,sep=\"\\n\")"
   ]
  },
  {
   "cell_type": "markdown",
   "metadata": {},
   "source": [
    "# encoding"
   ]
  },
  {
   "cell_type": "code",
   "execution_count": 196,
   "metadata": {},
   "outputs": [
    {
     "name": "stdout",
     "output_type": "stream",
     "text": [
      "Shape of lb_df is--> (1460, 38)\n",
      "Shape of X is--> (1460, 74)\n"
     ]
    }
   ],
   "source": [
    "lb = LabelEncoder()\n",
    "k = np.array([lb.fit_transform(X[var]) for var in X_char.keys()])\n",
    "k.resize((1460,38))\n",
    "np = pd.DataFrame(k,columns=X_char.keys())\n",
    "print(\"Shape of lb_df is-->\",np.shape)\n",
    "X.update(np)\n",
    "print(\"Shape of X is-->\",X.shape)\n"
   ]
  },
  {
   "cell_type": "markdown",
   "metadata": {},
   "source": [
    "## Linear Regression - ML Model"
   ]
  },
  {
   "cell_type": "code",
   "execution_count": 197,
   "metadata": {},
   "outputs": [],
   "source": [
    "from sklearn.linear_model import LinearRegression"
   ]
  },
  {
   "cell_type": "code",
   "execution_count": 198,
   "metadata": {},
   "outputs": [],
   "source": [
    "lr=LinearRegression()"
   ]
  },
  {
   "cell_type": "code",
   "execution_count": 201,
   "metadata": {},
   "outputs": [],
   "source": [
    "X_train,X_test, Y_train,Y_test = train_test_split(X,y,test_size=.3)"
   ]
  },
  {
   "cell_type": "code",
   "execution_count": 202,
   "metadata": {},
   "outputs": [
    {
     "data": {
      "text/plain": [
       "LinearRegression(copy_X=True, fit_intercept=True, n_jobs=None, normalize=False)"
      ]
     },
     "execution_count": 202,
     "metadata": {},
     "output_type": "execute_result"
    }
   ],
   "source": [
    "lr.fit(X_train,Y_train)"
   ]
  },
  {
   "cell_type": "code",
   "execution_count": 203,
   "metadata": {},
   "outputs": [
    {
     "data": {
      "text/plain": [
       "631682.0709731069"
      ]
     },
     "execution_count": 203,
     "metadata": {},
     "output_type": "execute_result"
    }
   ],
   "source": [
    "lr.intercept_"
   ]
  },
  {
   "cell_type": "code",
   "execution_count": 204,
   "metadata": {
    "scrolled": true
   },
   "outputs": [
    {
     "data": {
      "text/plain": [
       "array([-2.15560252e+02, -2.84985831e+02, -8.68639547e+01,  1.77293895e-01,\n",
       "       -4.64720981e+02, -9.78257268e+02, -8.18845488e+02, -4.81836329e+02,\n",
       "        4.20839820e+02,  4.46858904e+02,  1.17266072e+03, -1.56542333e+01,\n",
       "       -3.01803764e+02, -5.76860720e+02,  1.25899999e+03,  1.73772179e+04,\n",
       "        4.62786907e+03,  3.38689121e+02,  1.24622004e+02,  8.85559753e+02,\n",
       "        4.76576989e+02, -2.14620580e+02, -1.33586532e+02, -5.77266759e+02,\n",
       "        2.92434659e+01,  1.74425933e+02, -9.82083141e+02, -4.76607443e+02,\n",
       "       -2.90940649e+01, -3.74186005e+02,  3.56304861e+02, -3.07308501e+02,\n",
       "        4.77020136e+00, -8.54634854e+02,  5.74111861e+00, -2.32083906e+00,\n",
       "        8.19048090e+00,  1.00804643e+03, -3.20356950e+02, -2.29451660e+02,\n",
       "        4.36456442e+01,  1.02645294e+01,  1.70878533e+01,  7.01313631e+00,\n",
       "        3.43655190e+01,  1.21699715e+04,  6.71259422e+03,  6.52273339e+03,\n",
       "       -4.81238405e+03, -9.19446204e+03, -6.04802629e+03,  4.62625942e+02,\n",
       "        4.42436042e+03, -4.82636139e+01,  6.98378839e+03,  7.99514936e+02,\n",
       "        8.74370159e+01,  6.30157959e+02,  1.26297665e+04, -7.08388098e+00,\n",
       "       -7.62821000e+02, -4.69821344e+02,  5.53706575e+02,  1.72785146e+01,\n",
       "       -1.23134209e+01,  1.83917247e+01,  4.26621678e+01,  6.11614943e+01,\n",
       "       -2.74866733e+00, -2.58047254e-01, -6.34032543e+01, -8.82281386e+02,\n",
       "        2.75518344e+02,  4.72110838e+02])"
      ]
     },
     "execution_count": 204,
     "metadata": {},
     "output_type": "execute_result"
    }
   ],
   "source": [
    "lr.coef_"
   ]
  },
  {
   "cell_type": "code",
   "execution_count": 205,
   "metadata": {},
   "outputs": [
    {
     "data": {
      "text/plain": [
       "array([256876.23126357, 115237.80779718, 238161.29514321, 160452.36478361,\n",
       "       191785.07851606, 102594.89753466, 218018.70559884, 192579.5506758 ,\n",
       "       310604.44306512, 197422.80190468, 199121.27710141, 143333.38691458,\n",
       "       124088.23427869, 264277.11146699, 194199.04342527, 126211.53636944,\n",
       "       200525.05617521, 289324.44912318, 155940.46837866, 252730.50437561,\n",
       "       228668.51870523, 265083.75907163, 124784.24561374, 148398.95720186,\n",
       "        94950.59421562, 123045.18945105, 148670.71825934, 268660.74127644,\n",
       "       230461.02289729, 129794.76638149, 211275.62207859, 226354.55286413,\n",
       "       143193.83396411, 324533.01156017,  67424.26432041, 164899.34704031,\n",
       "       126708.91327427,  89152.12474688, 137998.63042154, 125564.7685011 ,\n",
       "       117042.76260168, 129230.47274262, 119128.13018396, 217332.03749776,\n",
       "       152294.12035569, 152235.98707853, 136232.34893197, 251833.75061931,\n",
       "       136308.06422852, 192829.30302634, 137773.49136078, 159529.5387325 ,\n",
       "       138402.72132594, 183616.90670005, 253687.26962362, 254820.24537283,\n",
       "       236999.67667362, 142825.11175652, 229234.44295108, 177237.2829764 ,\n",
       "       119074.45642442, 163538.9540762 ,  45803.86832392, 183790.47833579,\n",
       "       146523.20805914,  90254.91510471, 148450.69226049, 268637.68376091,\n",
       "       253581.92409247, 240102.76313017,  94089.63830405, 114875.21252776,\n",
       "       279037.16337171, 124304.50414744, 192711.71176462, 197577.93702908,\n",
       "       131364.25957138, 237007.55234478, 216571.38199219, 181066.29018954,\n",
       "       240847.29745795, 112925.62734073, 184364.6324673 , 234594.85485114,\n",
       "       186356.04423652, 121868.13361612, 196113.91688454, 185034.78340342,\n",
       "       339545.47329995,  83969.25830093, 207455.30049107, 119038.9700783 ,\n",
       "       224097.50786319,  96818.36855795, 154054.77701988, 275807.24427699,\n",
       "        89222.71021732, 145791.963521  , 134899.37634678, 175847.89628538,\n",
       "        82161.66889784, 114996.66592263, 252724.35851741, 315772.9764526 ,\n",
       "       180915.22358247, 103424.35666093, 301034.86272607, 141450.98969594,\n",
       "       272934.03272019, 324745.6759723 , 144575.50424161, 260097.54915589,\n",
       "        39474.48332554, 114885.0066013 , 266416.59452607, 130151.69051321,\n",
       "        90807.39666505, 166726.10392399, 289926.0240936 , 122950.77037191,\n",
       "       207258.22313959, 128092.22670837, 116255.91427522, 215542.34775617,\n",
       "       197357.95191901, 300133.00897769, 203055.0724194 , 237891.36012037,\n",
       "       205664.69603528, 210117.22372166,  99097.49290964, 228145.99495481,\n",
       "       122146.95050567, 127205.07057357, 194672.96808116, 153502.3653665 ,\n",
       "       105222.34152921, 300785.6787371 , 168505.42165825, 185111.14204665,\n",
       "       122172.86783653,  65600.2458303 , 209556.03358923, 208157.88510908,\n",
       "       162481.91303227, 139696.77669997, 152550.9740084 , 242123.52341013,\n",
       "       184766.25723617, 291876.6665363 , 278490.56654497, 121180.28074828,\n",
       "        96872.45404639, 104372.82042209, 128652.60714844, 204579.12519293,\n",
       "       231721.67286149, 146146.63167278,  -6695.51432991, 272192.33740908,\n",
       "       308738.52740112, 164494.06351957, 130524.50111684, 140920.17227122,\n",
       "       187821.81103356, 218454.08999867, 149971.72258714, 116664.53781395,\n",
       "       159279.82129708, 136811.248636  , 304592.84822531, 404379.70261351,\n",
       "       210423.49442208, 124323.78402607, 206300.59507188, 251406.48938956,\n",
       "       259594.14642249, 236612.00576647, 130313.85996878, 294206.09131287,\n",
       "       174688.07312159, 183973.75461289, 392768.63712957, 203064.13358323,\n",
       "       155542.19801979, 212953.29273286, 118748.92229189, 129104.42669978,\n",
       "       201734.85593548, 193750.51855241, 209198.60857632, 124955.81006696,\n",
       "       155217.01672441, 211692.8403567 ,  90983.90482914, 162040.76503811,\n",
       "       150702.45072103, 190520.70980484, 156317.64265604,  92843.29684822,\n",
       "       145458.94194786, 139041.79540404, 232319.90749702, 264532.80580036,\n",
       "       286154.87957263, 197913.53352574, 158132.6608875 , 134767.38639035,\n",
       "       223653.66190873, 311662.72609257,  77555.72257902, 310435.70266652,\n",
       "       138107.45090652, 119011.54089052, 458179.67762668, 236890.97061862,\n",
       "       155336.20057743, 214754.37834248, 123173.53858588, 312258.64553765,\n",
       "       298225.19999777, 129316.47170499, 234053.41262552, 157606.28101317,\n",
       "       201727.56546559, 166229.08864093, 153997.97902934, 104272.24817237,\n",
       "       202113.81769479, 120268.95870791, 147562.59769361, 194539.71527381,\n",
       "       105891.22062111,  77212.83952838, 248162.44999272, 173792.3909831 ,\n",
       "        67353.39393094,  72773.05484515, 254006.53815037,  60138.97747584,\n",
       "       225795.19026485, 192079.86272863, 114643.42897287, 203648.11770355,\n",
       "       128881.14135191, 178169.69092434, 195148.46162634, 214434.02421332,\n",
       "       154140.30775325, 206375.56834243, 167467.90149942, 170839.73391523,\n",
       "       141195.72239695, 131451.26807501, 288075.30361633, 189544.27907005,\n",
       "       204427.2385559 , 239303.93029893, 169196.02573719, 138091.01666389,\n",
       "       145263.92794458, 115348.30982906,  86213.62242816, 199697.54367219,\n",
       "       139148.63920315, 146030.51201197, 202519.44732255, 207874.83775775,\n",
       "       223759.82552042, 136409.20025028, 148154.70136297, 188337.47418217,\n",
       "       175357.02526632, 195006.88940225, 259550.08428434, 111818.03443987,\n",
       "       293146.08649827, 224685.5403577 , 132812.9604272 , 121150.81319481,\n",
       "        72597.20766933, 311138.7705192 , 283867.93345425, 222940.42320003,\n",
       "       193273.30042959, 127838.87433652, 134678.15887651, 123942.54627108,\n",
       "       142132.8602273 , 265211.13549207, 102489.30111746, 154285.74390371,\n",
       "        80404.52592089, 201210.34349322, 146173.89220453, 227310.39496887,\n",
       "        93976.56647132,  27399.60064903, 395468.15214653, 308337.70529278,\n",
       "       110345.23101819, 165813.25989027, 245438.01455031, 160017.14426271,\n",
       "        85593.21209654, 325160.10098657,  80537.21570272, 162012.8348723 ,\n",
       "       139779.16834323,  82016.38653426, 107860.61822482, 319988.29220733,\n",
       "       179588.56412046, 200581.7335722 , 121181.28164926, 200961.22405691,\n",
       "       228072.99640047, 138024.15428951,  99243.72499219, 161591.57490442,\n",
       "       208210.67121717,  90633.2517963 , 272295.99097716, 129462.58595221,\n",
       "       141298.92916196, 216797.34458221, 226672.37174733, 128339.71111133,\n",
       "       117820.57682789, 108903.22671299, 225158.709807  ,  94689.21495743,\n",
       "       252790.04756927, 179052.76589877, 326962.84251249, 118210.21509975,\n",
       "       179862.23172404, 144925.04684181,  60451.9098356 ,  69963.53730523,\n",
       "        84148.5793669 , 199758.45894591, 173139.40188292, 207262.27409797,\n",
       "       193422.38272169, 129001.92124171, 297543.89211634, 213009.88114035,\n",
       "       120488.55376334, 157233.79255277, 107427.94704052, 156765.01752552,\n",
       "       194773.61299555, 167562.21438914, 251141.69342301,  69618.73461985,\n",
       "       118020.96486533, 130861.53781701,  62559.10933995, 287906.99994007,\n",
       "        88138.29119354,  76383.32629712, 231207.00886475, 137542.89703268,\n",
       "       181345.34097604, 198137.48129094, 104776.82146257, 112041.84951283,\n",
       "       233302.55574093, 261820.01850138, 192461.06787597, 131801.02728091,\n",
       "       137330.76230857, 136587.8783021 , 300459.84644116, 177380.68306085,\n",
       "       159569.17476572, 141559.87687664, 175890.65940397,  93790.1647918 ,\n",
       "       229422.44604253, 155512.39872524, 102799.52045938, 210368.59406698,\n",
       "       312751.69863745, 102878.31987023, 138488.6198344 , 253438.72994584,\n",
       "       209460.50854401, 112317.97195756, 205415.93037548, 180548.3578983 ,\n",
       "       188848.90862874,  84039.53596546, 161683.24268644, 205579.06593077,\n",
       "       321017.1853103 , 111720.72237557, 265422.260486  , 175796.10763765,\n",
       "       246143.95432204, 204451.23264976, 145246.9887615 , 215713.73013347,\n",
       "       201694.00836404, 286372.24438156,  43099.0395886 , 170431.12155621,\n",
       "       156967.28706362,  77793.37781232,  70473.48793105, 241518.11688573,\n",
       "       190709.33964262, 171845.90236375, 232748.19741744, 308597.31581156,\n",
       "       234587.85730003, 100020.02901765, 156043.6420079 , 232133.529254  ,\n",
       "       220737.71266249, 222512.09899842,  97534.25813707, 172877.08068258,\n",
       "       233982.83903539, 228242.50681179,  79136.78746214, 283784.2603208 ,\n",
       "       264539.42721979, 178803.38422886, 180560.64883584, 157506.3253582 ,\n",
       "        89744.6620931 , 116913.33664313, 171783.30782206, 220397.68613005,\n",
       "       109618.57555954, 255144.58293332])"
      ]
     },
     "execution_count": 205,
     "metadata": {},
     "output_type": "execute_result"
    }
   ],
   "source": [
    "lr.predict(X_test)"
   ]
  },
  {
   "cell_type": "code",
   "execution_count": 206,
   "metadata": {},
   "outputs": [
    {
     "data": {
      "text/plain": [
       "602     220000\n",
       "243     120000\n",
       "1196    219210\n",
       "892     154500\n",
       "573     170000\n",
       "         ...  \n",
       "1291    119500\n",
       "627     153000\n",
       "374     219500\n",
       "154     125000\n",
       "293     235000\n",
       "Name: SalePrice, Length: 438, dtype: int64"
      ]
     },
     "execution_count": 206,
     "metadata": {},
     "output_type": "execute_result"
    }
   ],
   "source": [
    "Y_test"
   ]
  },
  {
   "cell_type": "code",
   "execution_count": 207,
   "metadata": {},
   "outputs": [
    {
     "data": {
      "text/plain": [
       "83.17687473866022"
      ]
     },
     "execution_count": 207,
     "metadata": {},
     "output_type": "execute_result"
    }
   ],
   "source": [
    "lr.score(X_test,Y_test)*100\n"
   ]
  },
  {
   "cell_type": "code",
   "execution_count": null,
   "metadata": {},
   "outputs": [],
   "source": []
  },
  {
   "cell_type": "code",
   "execution_count": null,
   "metadata": {},
   "outputs": [],
   "source": []
  }
 ],
 "metadata": {
  "kernelspec": {
   "display_name": "Python 3",
   "language": "python",
   "name": "python3"
  },
  "language_info": {
   "codemirror_mode": {
    "name": "ipython",
    "version": 3
   },
   "file_extension": ".py",
   "mimetype": "text/x-python",
   "name": "python",
   "nbconvert_exporter": "python",
   "pygments_lexer": "ipython3",
   "version": "3.7.6"
  }
 },
 "nbformat": 4,
 "nbformat_minor": 4
}
