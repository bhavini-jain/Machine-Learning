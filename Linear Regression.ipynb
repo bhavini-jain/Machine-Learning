{
 "cells": [
  {
   "cell_type": "markdown",
   "metadata": {},
   "source": [
    "# Predict the Price of House"
   ]
  },
  {
   "cell_type": "code",
   "execution_count": 5,
   "metadata": {},
   "outputs": [],
   "source": [
    "import pandas as pd"
   ]
  },
  {
   "cell_type": "code",
   "execution_count": 6,
   "metadata": {},
   "outputs": [
    {
     "data": {
      "text/html": [
       "<div>\n",
       "<style scoped>\n",
       "    .dataframe tbody tr th:only-of-type {\n",
       "        vertical-align: middle;\n",
       "    }\n",
       "\n",
       "    .dataframe tbody tr th {\n",
       "        vertical-align: top;\n",
       "    }\n",
       "\n",
       "    .dataframe thead th {\n",
       "        text-align: right;\n",
       "    }\n",
       "</style>\n",
       "<table border=\"1\" class=\"dataframe\">\n",
       "  <thead>\n",
       "    <tr style=\"text-align: right;\">\n",
       "      <th></th>\n",
       "      <th>Id</th>\n",
       "      <th>MSSubClass</th>\n",
       "      <th>MSZoning</th>\n",
       "      <th>LotFrontage</th>\n",
       "      <th>LotArea</th>\n",
       "      <th>Street</th>\n",
       "      <th>Alley</th>\n",
       "      <th>LotShape</th>\n",
       "      <th>LandContour</th>\n",
       "      <th>Utilities</th>\n",
       "      <th>...</th>\n",
       "      <th>PoolArea</th>\n",
       "      <th>PoolQC</th>\n",
       "      <th>Fence</th>\n",
       "      <th>MiscFeature</th>\n",
       "      <th>MiscVal</th>\n",
       "      <th>MoSold</th>\n",
       "      <th>YrSold</th>\n",
       "      <th>SaleType</th>\n",
       "      <th>SaleCondition</th>\n",
       "      <th>SalePrice</th>\n",
       "    </tr>\n",
       "  </thead>\n",
       "  <tbody>\n",
       "    <tr>\n",
       "      <th>0</th>\n",
       "      <td>1</td>\n",
       "      <td>60</td>\n",
       "      <td>RL</td>\n",
       "      <td>65.0</td>\n",
       "      <td>8450</td>\n",
       "      <td>Pave</td>\n",
       "      <td>NaN</td>\n",
       "      <td>Reg</td>\n",
       "      <td>Lvl</td>\n",
       "      <td>AllPub</td>\n",
       "      <td>...</td>\n",
       "      <td>0</td>\n",
       "      <td>NaN</td>\n",
       "      <td>NaN</td>\n",
       "      <td>NaN</td>\n",
       "      <td>0</td>\n",
       "      <td>2</td>\n",
       "      <td>2008</td>\n",
       "      <td>WD</td>\n",
       "      <td>Normal</td>\n",
       "      <td>208500</td>\n",
       "    </tr>\n",
       "    <tr>\n",
       "      <th>1</th>\n",
       "      <td>2</td>\n",
       "      <td>20</td>\n",
       "      <td>RL</td>\n",
       "      <td>80.0</td>\n",
       "      <td>9600</td>\n",
       "      <td>Pave</td>\n",
       "      <td>NaN</td>\n",
       "      <td>Reg</td>\n",
       "      <td>Lvl</td>\n",
       "      <td>AllPub</td>\n",
       "      <td>...</td>\n",
       "      <td>0</td>\n",
       "      <td>NaN</td>\n",
       "      <td>NaN</td>\n",
       "      <td>NaN</td>\n",
       "      <td>0</td>\n",
       "      <td>5</td>\n",
       "      <td>2007</td>\n",
       "      <td>WD</td>\n",
       "      <td>Normal</td>\n",
       "      <td>181500</td>\n",
       "    </tr>\n",
       "    <tr>\n",
       "      <th>2</th>\n",
       "      <td>3</td>\n",
       "      <td>60</td>\n",
       "      <td>RL</td>\n",
       "      <td>68.0</td>\n",
       "      <td>11250</td>\n",
       "      <td>Pave</td>\n",
       "      <td>NaN</td>\n",
       "      <td>IR1</td>\n",
       "      <td>Lvl</td>\n",
       "      <td>AllPub</td>\n",
       "      <td>...</td>\n",
       "      <td>0</td>\n",
       "      <td>NaN</td>\n",
       "      <td>NaN</td>\n",
       "      <td>NaN</td>\n",
       "      <td>0</td>\n",
       "      <td>9</td>\n",
       "      <td>2008</td>\n",
       "      <td>WD</td>\n",
       "      <td>Normal</td>\n",
       "      <td>223500</td>\n",
       "    </tr>\n",
       "    <tr>\n",
       "      <th>3</th>\n",
       "      <td>4</td>\n",
       "      <td>70</td>\n",
       "      <td>RL</td>\n",
       "      <td>60.0</td>\n",
       "      <td>9550</td>\n",
       "      <td>Pave</td>\n",
       "      <td>NaN</td>\n",
       "      <td>IR1</td>\n",
       "      <td>Lvl</td>\n",
       "      <td>AllPub</td>\n",
       "      <td>...</td>\n",
       "      <td>0</td>\n",
       "      <td>NaN</td>\n",
       "      <td>NaN</td>\n",
       "      <td>NaN</td>\n",
       "      <td>0</td>\n",
       "      <td>2</td>\n",
       "      <td>2006</td>\n",
       "      <td>WD</td>\n",
       "      <td>Abnorml</td>\n",
       "      <td>140000</td>\n",
       "    </tr>\n",
       "    <tr>\n",
       "      <th>4</th>\n",
       "      <td>5</td>\n",
       "      <td>60</td>\n",
       "      <td>RL</td>\n",
       "      <td>84.0</td>\n",
       "      <td>14260</td>\n",
       "      <td>Pave</td>\n",
       "      <td>NaN</td>\n",
       "      <td>IR1</td>\n",
       "      <td>Lvl</td>\n",
       "      <td>AllPub</td>\n",
       "      <td>...</td>\n",
       "      <td>0</td>\n",
       "      <td>NaN</td>\n",
       "      <td>NaN</td>\n",
       "      <td>NaN</td>\n",
       "      <td>0</td>\n",
       "      <td>12</td>\n",
       "      <td>2008</td>\n",
       "      <td>WD</td>\n",
       "      <td>Normal</td>\n",
       "      <td>250000</td>\n",
       "    </tr>\n",
       "  </tbody>\n",
       "</table>\n",
       "<p>5 rows × 81 columns</p>\n",
       "</div>"
      ],
      "text/plain": [
       "   Id  MSSubClass MSZoning  LotFrontage  LotArea Street Alley LotShape  \\\n",
       "0   1          60       RL         65.0     8450   Pave   NaN      Reg   \n",
       "1   2          20       RL         80.0     9600   Pave   NaN      Reg   \n",
       "2   3          60       RL         68.0    11250   Pave   NaN      IR1   \n",
       "3   4          70       RL         60.0     9550   Pave   NaN      IR1   \n",
       "4   5          60       RL         84.0    14260   Pave   NaN      IR1   \n",
       "\n",
       "  LandContour Utilities  ... PoolArea PoolQC Fence MiscFeature MiscVal MoSold  \\\n",
       "0         Lvl    AllPub  ...        0    NaN   NaN         NaN       0      2   \n",
       "1         Lvl    AllPub  ...        0    NaN   NaN         NaN       0      5   \n",
       "2         Lvl    AllPub  ...        0    NaN   NaN         NaN       0      9   \n",
       "3         Lvl    AllPub  ...        0    NaN   NaN         NaN       0      2   \n",
       "4         Lvl    AllPub  ...        0    NaN   NaN         NaN       0     12   \n",
       "\n",
       "  YrSold  SaleType  SaleCondition  SalePrice  \n",
       "0   2008        WD         Normal     208500  \n",
       "1   2007        WD         Normal     181500  \n",
       "2   2008        WD         Normal     223500  \n",
       "3   2006        WD        Abnorml     140000  \n",
       "4   2008        WD         Normal     250000  \n",
       "\n",
       "[5 rows x 81 columns]"
      ]
     },
     "execution_count": 6,
     "metadata": {},
     "output_type": "execute_result"
    }
   ],
   "source": [
    "df=pd.read_csv('F:\\Dataset\\house_prediction.csv')\n",
    "df.head()"
   ]
  },
  {
   "cell_type": "code",
   "execution_count": 7,
   "metadata": {},
   "outputs": [],
   "source": [
    "df=df.select_dtypes(include=['int64','float64'])"
   ]
  },
  {
   "cell_type": "code",
   "execution_count": 4,
   "metadata": {},
   "outputs": [],
   "source": [
    "df.fillna(df.mean(),inplace=True)"
   ]
  },
  {
   "cell_type": "code",
   "execution_count": 5,
   "metadata": {},
   "outputs": [
    {
     "name": "stdout",
     "output_type": "stream",
     "text": [
      "<class 'pandas.core.frame.DataFrame'>\n",
      "RangeIndex: 1460 entries, 0 to 1459\n",
      "Data columns (total 38 columns):\n",
      " #   Column         Non-Null Count  Dtype  \n",
      "---  ------         --------------  -----  \n",
      " 0   Id             1460 non-null   int64  \n",
      " 1   MSSubClass     1460 non-null   int64  \n",
      " 2   LotFrontage    1460 non-null   float64\n",
      " 3   LotArea        1460 non-null   int64  \n",
      " 4   OverallQual    1460 non-null   int64  \n",
      " 5   OverallCond    1460 non-null   int64  \n",
      " 6   YearBuilt      1460 non-null   int64  \n",
      " 7   YearRemodAdd   1460 non-null   int64  \n",
      " 8   MasVnrArea     1460 non-null   float64\n",
      " 9   BsmtFinSF1     1460 non-null   int64  \n",
      " 10  BsmtFinSF2     1460 non-null   int64  \n",
      " 11  BsmtUnfSF      1460 non-null   int64  \n",
      " 12  TotalBsmtSF    1460 non-null   int64  \n",
      " 13  1stFlrSF       1460 non-null   int64  \n",
      " 14  2ndFlrSF       1460 non-null   int64  \n",
      " 15  LowQualFinSF   1460 non-null   int64  \n",
      " 16  GrLivArea      1460 non-null   int64  \n",
      " 17  BsmtFullBath   1460 non-null   int64  \n",
      " 18  BsmtHalfBath   1460 non-null   int64  \n",
      " 19  FullBath       1460 non-null   int64  \n",
      " 20  HalfBath       1460 non-null   int64  \n",
      " 21  BedroomAbvGr   1460 non-null   int64  \n",
      " 22  KitchenAbvGr   1460 non-null   int64  \n",
      " 23  TotRmsAbvGrd   1460 non-null   int64  \n",
      " 24  Fireplaces     1460 non-null   int64  \n",
      " 25  GarageYrBlt    1460 non-null   float64\n",
      " 26  GarageCars     1460 non-null   int64  \n",
      " 27  GarageArea     1460 non-null   int64  \n",
      " 28  WoodDeckSF     1460 non-null   int64  \n",
      " 29  OpenPorchSF    1460 non-null   int64  \n",
      " 30  EnclosedPorch  1460 non-null   int64  \n",
      " 31  3SsnPorch      1460 non-null   int64  \n",
      " 32  ScreenPorch    1460 non-null   int64  \n",
      " 33  PoolArea       1460 non-null   int64  \n",
      " 34  MiscVal        1460 non-null   int64  \n",
      " 35  MoSold         1460 non-null   int64  \n",
      " 36  YrSold         1460 non-null   int64  \n",
      " 37  SalePrice      1460 non-null   int64  \n",
      "dtypes: float64(3), int64(35)\n",
      "memory usage: 433.6 KB\n"
     ]
    }
   ],
   "source": [
    "df.info()"
   ]
  },
  {
   "cell_type": "code",
   "execution_count": 6,
   "metadata": {},
   "outputs": [
    {
     "name": "stdout",
     "output_type": "stream",
     "text": [
      "Shape of X (1460, 37)\n",
      "Shape of y (1460,)\n"
     ]
    }
   ],
   "source": [
    "X=df.drop('SalePrice',axis=1)\n",
    "y=df['SalePrice']\n",
    "print('Shape of X',X.shape)\n",
    "print('Shape of y',y.shape)"
   ]
  },
  {
   "cell_type": "code",
   "execution_count": 7,
   "metadata": {},
   "outputs": [],
   "source": [
    "from sklearn.model_selection import train_test_split\n",
    "X_train,X_test,y_train,y_test=train_test_split(X,y,test_size=0.2,random_state=51)"
   ]
  },
  {
   "cell_type": "code",
   "execution_count": 8,
   "metadata": {},
   "outputs": [
    {
     "name": "stdout",
     "output_type": "stream",
     "text": [
      "X train shape (1168, 37)\n",
      "X test shape (292, 37)\n",
      "y train shape (1168,)\n",
      "y test shape (292,)\n"
     ]
    }
   ],
   "source": [
    "print('X train shape',X_train.shape)\n",
    "print('X test shape',X_test.shape)\n",
    "print('y train shape',y_train.shape)\n",
    "print('y test shape',y_test.shape)"
   ]
  },
  {
   "cell_type": "code",
   "execution_count": 9,
   "metadata": {},
   "outputs": [],
   "source": [
    "from sklearn.preprocessing import StandardScaler\n",
    "sc=StandardScaler()\n",
    "sc.fit(X_train)\n",
    "X_train=sc.transform(X_train)\n",
    "X_test=sc.transform(X_test)"
   ]
  },
  {
   "cell_type": "markdown",
   "metadata": {},
   "source": [
    "## Linear Regression - ML Model"
   ]
  },
  {
   "cell_type": "code",
   "execution_count": 10,
   "metadata": {},
   "outputs": [],
   "source": [
    "from sklearn.linear_model import LinearRegression"
   ]
  },
  {
   "cell_type": "code",
   "execution_count": 11,
   "metadata": {},
   "outputs": [],
   "source": [
    "lr=LinearRegression()"
   ]
  },
  {
   "cell_type": "code",
   "execution_count": 12,
   "metadata": {},
   "outputs": [
    {
     "data": {
      "text/plain": [
       "LinearRegression(copy_X=True, fit_intercept=True, n_jobs=None, normalize=False)"
      ]
     },
     "execution_count": 12,
     "metadata": {},
     "output_type": "execute_result"
    }
   ],
   "source": [
    "lr.fit(X_train,y_train)"
   ]
  },
  {
   "cell_type": "code",
   "execution_count": 13,
   "metadata": {},
   "outputs": [
    {
     "data": {
      "text/plain": [
       "181479.19037287473"
      ]
     },
     "execution_count": 13,
     "metadata": {},
     "output_type": "execute_result"
    }
   ],
   "source": [
    "lr.intercept_"
   ]
  },
  {
   "cell_type": "code",
   "execution_count": 14,
   "metadata": {},
   "outputs": [
    {
     "data": {
      "text/plain": [
       "array([-2.36732572e+02, -8.12095349e+03, -1.61302377e+03,  4.04197417e+03,\n",
       "        2.41036676e+04,  5.30732305e+03,  7.59348151e+03,  6.36049960e+02,\n",
       "        5.36639780e+03, -3.44932336e+14, -1.21818840e+14, -3.42449846e+14,\n",
       "        3.38501092e+14, -1.31824054e+16, -1.49375394e+16, -1.67852032e+15,\n",
       "        1.78783906e+16,  5.56962582e+03,  8.77555435e+02,  2.33367991e+03,\n",
       "       -5.95662978e+02, -8.44113265e+03, -2.79481197e+03,  6.45182658e+03,\n",
       "        9.47778584e+02,  3.55047066e+03,  1.00680229e+04, -2.73811938e+03,\n",
       "        2.85117420e+03,  9.88519611e+02, -8.01195499e+00,  4.85500156e+02,\n",
       "        2.56388758e+03, -1.67720878e+03, -1.36525909e+01,  8.35947647e+01,\n",
       "       -1.62308931e+03])"
      ]
     },
     "execution_count": 14,
     "metadata": {},
     "output_type": "execute_result"
    }
   ],
   "source": [
    "lr.coef_"
   ]
  },
  {
   "cell_type": "code",
   "execution_count": 15,
   "metadata": {},
   "outputs": [
    {
     "data": {
      "text/plain": [
       "array([-0.25497374, -0.86796155, -0.01915355,  0.16634251, -0.79685579,\n",
       "       -0.52351103, -0.39430898, -0.35658609, -0.57956876, -0.94550475,\n",
       "       -0.28965517,  0.8926539 , -0.1646418 ,  0.67607212, -0.80484992,\n",
       "       -0.11657352, -0.18490992, -0.79789129, -0.23318561, -1.04956925,\n",
       "       -0.77928629,  0.16070456, -0.19935038, -0.33515965,  0.60159139,\n",
       "       -0.79336405, -1.02935908, -0.87454248, -0.76879386, -0.70609773,\n",
       "        0.2588943 , -0.11182152, -0.25229877, -0.06475327,  1.1549454 ,\n",
       "        0.61220921, -0.5898059 ])"
      ]
     },
     "execution_count": 15,
     "metadata": {},
     "output_type": "execute_result"
    }
   ],
   "source": [
    "X_test[0,:]"
   ]
  },
  {
   "cell_type": "code",
   "execution_count": 16,
   "metadata": {},
   "outputs": [
    {
     "data": {
      "text/plain": [
       "array([130769.19037287])"
      ]
     },
     "execution_count": 16,
     "metadata": {},
     "output_type": "execute_result"
    }
   ],
   "source": [
    "lr.predict([X_test[0,:]])"
   ]
  },
  {
   "cell_type": "code",
   "execution_count": 17,
   "metadata": {},
   "outputs": [
    {
     "data": {
      "text/plain": [
       "array([130770.3031697 , 130422.11760778, 282395.13583493, 153656.20652731,\n",
       "       178705.86983589, 213122.39589753, 165160.73533138, 167785.1852915 ,\n",
       "       157022.51963403, 336055.33426267, 131949.25042192, 204105.18571718,\n",
       "       204059.13235248, 125738.38970976, 115399.37965398, 128821.6643723 ,\n",
       "       157687.57021997, 149078.15559401, 279850.49088451, 175070.29798138,\n",
       "       142243.85053666, 196824.79315147, 106333.05206035,  77957.12129385,\n",
       "       180342.89969094,  48378.94372728, 148883.68523605, 158628.58857347,\n",
       "       166871.01719243, 112183.31479123, 205839.10537049, 179495.41734742,\n",
       "        99771.73889181, 105451.85333551, 259622.12516583, 119786.74860002,\n",
       "       115300.05552373, 133498.47820728, 239130.71974615, 212340.71124872,\n",
       "       220589.20914381, 284415.7878609 , 215179.32023486, 195956.60344254,\n",
       "       215914.93642116, 267836.11727301, 123509.39394777, 262705.48879843,\n",
       "       253306.50274444, 120947.40994543, 241239.03739709,  64474.81771813,\n",
       "       128376.1654551 , 224686.6048538 , 116495.46960788, 249218.62326235,\n",
       "       185935.75448737, 102563.08085068,  97769.8441701 , 228717.89353008,\n",
       "       155814.78463193, 185503.47999365, 156907.97047474, 291562.58041209,\n",
       "       141160.31237642, 227088.3744797 , 244065.60394275, 210607.72142092,\n",
       "        83019.26205036, 226806.90027369, 178317.68039822,  91196.06475296,\n",
       "       154583.18839075, 176661.03064456, 198957.01974438, 207089.40132562,\n",
       "       154017.46724146, 130311.25091262,  84817.51407133,  98068.87086747,\n",
       "       231979.78487497, 264664.20513173, 244950.86489247, 107103.68701792,\n",
       "       206177.14221252, 212165.82684519, 192151.02499587, 420266.33186146,\n",
       "       154226.84192297,   5533.38055987, 121011.79453534, 129555.46220425,\n",
       "       293160.60634274, 259146.33060289, 196875.02635442, 234009.14923827,\n",
       "       203123.25048047, 159424.33108982, 268600.82859276, 192400.97959245,\n",
       "       211161.92106336, 133941.05964989, 186623.67802077, 231943.84687493,\n",
       "       207108.62658462, 205716.62924714, 193097.94029867,  58108.24042897,\n",
       "       175409.07686678, 131490.98887772, 139279.19282781, 250223.58283664,\n",
       "        99394.01987961, 235470.98913913, 174574.52920967, 153809.90933522,\n",
       "       188443.02149242, 112032.81541235, 153433.61665607, 103375.10964919,\n",
       "       132475.58527416, 151458.801714  , 262723.08992225, 153306.40846839,\n",
       "       200258.94163096,  93238.07422764, 112387.3486979 , 135766.04311625,\n",
       "       241364.87508933, 107194.53302724, 145731.66989514,  98975.57314218,\n",
       "       143332.3750198 , 225065.59410329, 200465.18312363, 303174.37815561,\n",
       "       116079.9072974 , 118475.3543546 , 238261.12821664, 241664.62093511,\n",
       "       266424.33382419, 172143.17138542, 177730.43487363, 163620.65174583,\n",
       "       270087.77127371, 100554.58525946, 210276.98594006, 112368.77341376,\n",
       "       311037.03090371, 237326.00932509, 346120.6956447 , 172001.78661147,\n",
       "       128801.83427328, 297710.1225532 , 263633.53750105, 379391.93975915,\n",
       "       101212.82858642, 144010.1656194 , 226084.21258664, 171752.90942026,\n",
       "       171516.97453974, 285593.65910621, 397055.72353442, 257354.56079143,\n",
       "       248236.13189987, 193944.34890633, 145767.80172926, 189386.38572456,\n",
       "       247069.9176341 , 145330.06929519, 153289.08090534, 197220.46795908,\n",
       "       181904.39766611, 177715.60929029,  93514.44430111, 174092.26736597,\n",
       "       210811.50917627, 184355.09069323, 132123.97458033, 151150.08801856,\n",
       "       119817.0416747 , 196960.0719062 , 162811.6334343 , 177745.42044918,\n",
       "       278406.34043923, 273531.33383391, 185206.85672787, 254211.39440733,\n",
       "       285647.50780009, 320883.95029334, 183727.75998271, 276528.04324496,\n",
       "       208754.75381897, 190092.36138152, 202453.20388355, 314355.66100207,\n",
       "       183082.28979183, 205984.23394386, 176133.2662354 , 223770.19217963,\n",
       "       314714.73346695, 377406.29874648, 108041.67490358,  54162.46889568,\n",
       "       196791.51642862,  75230.40744952, 110216.72446858, 130792.03658275,\n",
       "       219695.56329313, 156945.5593951 , 165182.7762907 , 119823.31449866,\n",
       "       122164.76126725, 306800.44489881,  93789.89107207, 109559.00620924,\n",
       "       118534.14230486,  90363.71073354, 229010.88169591, 158184.33049738,\n",
       "       156923.86571627, 207787.69836524, 550511.51121303, 215270.56194979,\n",
       "        58642.41873434, 162735.14750825, 145082.10510956, 242628.57842141,\n",
       "        92257.72220459, 126050.33174683, 129087.64287365, 126539.89306242,\n",
       "       164255.4997526 ,  73176.7584402 , 204027.52254522, 184017.82054383,\n",
       "       123853.40976826, 211648.35497422, 194471.16585052, 195193.40767368,\n",
       "       260455.91628899,  60319.50341927, 175481.57138471, 119650.94017174,\n",
       "       148416.20439761, 182363.26216818, 170332.05218821, 100232.53283563,\n",
       "       119935.21415064, 353685.03475938, 146116.92543556, 274091.34797325,\n",
       "       162285.58690177, 224226.61503665,  97270.41630467, 115639.28639976,\n",
       "       131637.81543801,  98325.31601555, 153064.56526772,  52952.95208691,\n",
       "       104783.10318382, 139164.29591456, 141378.6206878 , 121447.67692813,\n",
       "       118407.42631188, 149986.22629892, 149565.72009944,  91379.49972209,\n",
       "       241911.87127952,  90972.5224817 , 162584.62454238, 271970.93578615,\n",
       "       153537.36046193,  49251.17538165, 192303.06123981, 157555.20253804,\n",
       "       125251.15829444, 156171.07563922, 151005.92286056, 248326.59962229,\n",
       "        70672.12630904, 237733.98568571, 283192.73397185,  91066.37804285,\n",
       "       133451.11181375,  56590.23150849, 154573.7594888 , 251285.32799782,\n",
       "       154590.44353575, 120407.40788343, 226247.55522994, 231932.05386214])"
      ]
     },
     "execution_count": 17,
     "metadata": {},
     "output_type": "execute_result"
    }
   ],
   "source": [
    "lr.predict(X_test)"
   ]
  },
  {
   "cell_type": "code",
   "execution_count": 18,
   "metadata": {},
   "outputs": [
    {
     "data": {
      "text/plain": [
       "626     139900\n",
       "1334    125000\n",
       "199     274900\n",
       "647     155000\n",
       "433     181000\n",
       "         ...  \n",
       "1033    230000\n",
       "1364    144152\n",
       "1112    129900\n",
       "824     232600\n",
       "399     241000\n",
       "Name: SalePrice, Length: 292, dtype: int64"
      ]
     },
     "execution_count": 18,
     "metadata": {},
     "output_type": "execute_result"
    }
   ],
   "source": [
    "y_test"
   ]
  },
  {
   "cell_type": "code",
   "execution_count": 19,
   "metadata": {},
   "outputs": [
    {
     "data": {
      "text/plain": [
       "76.87048397249367"
      ]
     },
     "execution_count": 19,
     "metadata": {},
     "output_type": "execute_result"
    }
   ],
   "source": [
    "lr.score(X_test,y_test)*100\n"
   ]
  },
  {
   "cell_type": "code",
   "execution_count": null,
   "metadata": {},
   "outputs": [],
   "source": []
  }
 ],
 "metadata": {
  "kernelspec": {
   "display_name": "Python 3",
   "language": "python",
   "name": "python3"
  },
  "language_info": {
   "codemirror_mode": {
    "name": "ipython",
    "version": 3
   },
   "file_extension": ".py",
   "mimetype": "text/x-python",
   "name": "python",
   "nbconvert_exporter": "python",
   "pygments_lexer": "ipython3",
   "version": "3.7.6"
  }
 },
 "nbformat": 4,
 "nbformat_minor": 4
}
